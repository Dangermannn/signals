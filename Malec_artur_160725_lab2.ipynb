{
  "nbformat": 4,
  "nbformat_minor": 0,
  "metadata": {
    "colab": {
      "provenance": []
    },
    "kernelspec": {
      "name": "python3",
      "display_name": "Python 3"
    }
  },
  "cells": [
    {
      "cell_type": "code",
      "source": [
        "import scipy.integrate as integrate\n",
        "from numpy.core.function_base import linspace\n",
        "import matplotlib.pyplot as plt\n",
        "import numpy as np"
      ],
      "metadata": {
        "id": "8kl_SJGsJs0Q"
      },
      "execution_count": 129,
      "outputs": []
    },
    {
      "cell_type": "code",
      "source": [
        "def function(t):\n",
        "    return 1.25 * t ** 2\n",
        "\n",
        "x_vals = np.linspace(-1, 1, 100);\n",
        "plt.plot(x_vals, function(x_vals))"
      ],
      "metadata": {
        "colab": {
          "base_uri": "https://localhost:8080/",
          "height": 282
        },
        "id": "nuoadZKlJuck",
        "outputId": "ea99cb2d-4ae4-4dac-8042-907a1ade421e"
      },
      "execution_count": 130,
      "outputs": [
        {
          "output_type": "execute_result",
          "data": {
            "text/plain": [
              "[<matplotlib.lines.Line2D at 0x7fa1bb9d9610>]"
            ]
          },
          "metadata": {},
          "execution_count": 130
        },
        {
          "output_type": "display_data",
          "data": {
            "text/plain": [
              "<Figure size 432x288 with 1 Axes>"
            ],
            "image/png": "[encoded data removed]"
          },
          "metadata": {
            "needs_background": "light"
          }
        }
      ]
    },
    {
      "cell_type": "code",
      "source": [
        "p = 1.25\n",
        "T = 2\n",
        "w0 =  2 * np.pi / 2\n",
        "k = 2"
      ],
      "metadata": {
        "id": "R2OFst3I8iqC"
      },
      "execution_count": 131,
      "outputs": []
    },
    {
      "cell_type": "code",
      "source": [
        "def functionK1(t):\n",
        "    return function(t) * np.cos(t * np.pi)\n",
        "\n",
        "def functionK2(t):\n",
        "    return function(t) * np.cos(2 * t * np.pi)\n",
        "\n",
        "a0 = 1 / T * integrate.quad(function, -1, 1)[0]\n",
        "a1 = 2 / T * integrate.quad(functionK1, -1, 1)[0] # k = 1\n",
        "a2 = 2 / T * integrate.quad(functionK2, -1, 1)[0] # k = 2"
      ],
      "metadata": {
        "id": "ya1b-8AYJ7dA"
      },
      "execution_count": 132,
      "outputs": []
    },
    {
      "cell_type": "code",
      "source": [
        "print(\"a0: \" + str(a0))\n",
        "print(\"a1: \" + str(a1))\n",
        "print(\"a2: \" + str(a2))"
      ],
      "metadata": {
        "colab": {
          "base_uri": "https://localhost:8080/"
        },
        "id": "Fgb1wXf0BHbD",
        "outputId": "10fcee81-6ca0-4b9f-bff4-186d9be0a47c"
      },
      "execution_count": 133,
      "outputs": [
        {
          "output_type": "stream",
          "name": "stdout",
          "text": [
            "a0: 0.41666666666666663\n",
            "a1: -0.5066059182116889\n",
            "a2: 0.12665147955292216\n"
          ]
        }
      ]
    },
    {
      "cell_type": "code",
      "source": [
        "def fourier_series(t, k):\n",
        "    return a0 + a1 * np.cos(np.pi * t) + a2 * np.cos(2 * np.pi * t) \n",
        "    \n",
        "x_fourier_series = np.linspace(-3, 3, 100);\n",
        "plt.plot(x_fourier_series,\n",
        "         fourier_series(x_fourier_series, k),\n",
        "         x_fourier_series,\n",
        "         function(x_fourier_series)\n",
        "         )"
      ],
      "metadata": {
        "colab": {
          "base_uri": "https://localhost:8080/",
          "height": 300
        },
        "id": "DLIxUuQ3aBUZ",
        "outputId": "1b68de3d-e755-4fbe-d124-1f7c08a70a89"
      },
      "execution_count": 134,
      "outputs": [
        {
          "output_type": "execute_result",
          "data": {
            "text/plain": [
              "[<matplotlib.lines.Line2D at 0x7fa1bb933b80>,\n",
              " <matplotlib.lines.Line2D at 0x7fa1bb933bb0>]"
            ]
          },
          "metadata": {},
          "execution_count": 134
        },
        {
          "output_type": "display_data",
          "data": {
            "text/plain": [
              "<Figure size 432x288 with 1 Axes>"
            ],
            "image/png": "[encoded data removed]"
          },
          "metadata": {
            "needs_background": "light"
          }
        }
      ]
    },
    {
      "cell_type": "code",
      "source": [],
      "metadata": {
        "id": "iFS-sTs1FU2L"
      },
      "execution_count": 135,
      "outputs": []
    }
  ]
}